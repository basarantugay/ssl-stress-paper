{
  "cells": [
    {
      "cell_type": "code",
      "source": [
        "import pandas as pd\n",
        "import numpy as np\n",
        "import torch\n",
        "from torch import nn\n",
        "from matplotlib import pyplot as plt\n",
        "from sklearn.metrics import accuracy_score,classification_report,f1_score,recall_score,precision_score,roc_curve,auc,roc_auc_score\n",
        "from sklearn.model_selection import TimeSeriesSplit\n",
        "from sklearn.preprocessing import StandardScaler\n",
        "from tqdm import tqdm\n",
        "import torch\n",
        "from torch.utils.data import Dataset,DataLoader\n",
        "from torch import nn as nn"
      ],
      "metadata": {
        "id": "aWW_mWExl7mH"
      },
      "execution_count": null,
      "outputs": []
    },
    {
      "cell_type": "code",
      "execution_count": null,
      "metadata": {
        "id": "G8ewSz63khl_"
      },
      "outputs": [],
      "source": [
        "df = pd.read_csv('data.csv')\n",
        "df = df.drop(df.columns[:5], axis = 1)\n",
        "df.head()"
      ]
    },
    {
      "cell_type": "code",
      "execution_count": null,
      "metadata": {
        "id": "lQRGdMzokhmC"
      },
      "outputs": [],
      "source": [
        "vc = df['SessionLabel'].value_counts().to_frame().reset_index()\n",
        "vc['percent'] = vc[\"SessionLabel\"].apply(lambda x : round(100*float(x) / len(df), 2))\n",
        "vc = vc.rename(columns = {\"index\" : \"Target\", \"SessionLabel\" : \"Count\"})\n",
        "vc"
      ]
    },
    {
      "cell_type": "code",
      "execution_count": null,
      "metadata": {
        "id": "po2gq9NUkhmD"
      },
      "outputs": [],
      "source": [
        "non_stress = df[df['SessionLabel'] == 0].sample(2000)\n",
        "stress = df[df['SessionLabel'] == 1].sample(300)\n",
        "\n",
        "data = non_stress.append(stress).sample(frac=1).reset_index(drop=True)\n",
        "X = data.drop(['SessionLabel'], axis = 1).values\n",
        "Y = data[\"SessionLabel\"].values"
      ]
    },
    {
      "cell_type": "code",
      "execution_count": null,
      "metadata": {
        "id": "CfKpgLsXkhmE"
      },
      "outputs": [],
      "source": [
        "## input layer\n",
        "input_layer = Input(shape=(X.shape[1],))\n",
        "\n",
        "## encoding part\n",
        "encoded = Dense(100, activation='tanh', activity_regularizer=regularizers.l1(10e-5))(input_layer)\n",
        "encoded = Dense(50, activation='relu')(encoded)\n",
        "\n",
        "## decoding part\n",
        "decoded = Dense(50, activation='tanh')(encoded)\n",
        "decoded = Dense(100, activation='tanh')(decoded)\n",
        "\n",
        "## output layer\n",
        "output_layer = Dense(X.shape[1], activation='relu')(decoded)\n"
      ]
    },
    {
      "cell_type": "code",
      "execution_count": null,
      "metadata": {
        "id": "g2kDWTvgkhmE"
      },
      "outputs": [],
      "source": [
        "autoencoder = Model(input_layer, output_layer)\n",
        "autoencoder.compile(optimizer=\"adadelta\", loss=\"mse\")"
      ]
    },
    {
      "cell_type": "code",
      "execution_count": null,
      "metadata": {
        "id": "qhGs6hyBkhmF"
      },
      "outputs": [],
      "source": [
        "x = df.drop([\"SessionLabel\"], axis=1)\n",
        "y = df[\"SessionLabel\"].values\n",
        "\n",
        "x_scale = preprocessing.MinMaxScaler().fit_transform(x.values)\n",
        "x_nonst, x_stress = x_scale[y == 0], x_scale[y == 1]"
      ]
    },
    {
      "cell_type": "code",
      "execution_count": null,
      "metadata": {
        "id": "pTPICqUkkhmF"
      },
      "outputs": [],
      "source": [
        "autoencoder.fit(x_nonst[0:200000], x_nonst[0:200000],\n",
        "                batch_size = 256, epochs = 100,\n",
        "                shuffle = True, validation_split = 0.20);"
      ]
    },
    {
      "cell_type": "code",
      "execution_count": null,
      "metadata": {
        "id": "YG7bcHNVkhmF"
      },
      "outputs": [],
      "source": [
        "hidden_representation = Sequential()\n",
        "hidden_representation.add(autoencoder.layers[0])\n",
        "hidden_representation.add(autoencoder.layers[1])\n",
        "hidden_representation.add(autoencoder.layers[2])"
      ]
    },
    {
      "cell_type": "code",
      "execution_count": null,
      "metadata": {
        "id": "FT3CddJ_khmG"
      },
      "outputs": [],
      "source": [
        "nonst_hid_rep = hidden_representation.predict(x_nonst[:500000])\n",
        "stress_hid_rep = hidden_representation.predict(x_stress[:500000])"
      ]
    },
    {
      "cell_type": "code",
      "execution_count": null,
      "metadata": {
        "id": "mT5MRft9khmG"
      },
      "outputs": [],
      "source": [
        "rep_x = np.append(nonst_hid_rep, stress_hid_rep, axis = 0)\n",
        "y_n = np.zeros(nonst_hid_rep.shape[0])\n",
        "y_f = np.ones(stress_hid_rep.shape[0])\n",
        "rep_y = np.append(y_n, y_f)"
      ]
    },
    {
      "cell_type": "code",
      "execution_count": null,
      "metadata": {
        "id": "zLm7la39khmH"
      },
      "outputs": [],
      "source": [
        "from sklearn.neural_network import MLPClassifier\n",
        "mlp = MLPClassifier(max_iter=100)\n",
        "\n",
        "train_x, val_x, train_y, val_y = train_test_split(rep_x, rep_y, test_size=0.40)\n"
      ]
    },
    {
      "cell_type": "code",
      "execution_count": null,
      "metadata": {
        "id": "_FdRBMGbkhmH"
      },
      "outputs": [],
      "source": [
        "parameter_space = {\n",
        "    'hidden_layer_sizes':[(50,50,50), (50,100,50), (100,)],\n",
        "    'activation':['tanh', 'relu'],\n",
        "    'solver':['sgd', 'adam'],\n",
        "    'alpha':[0.0001, 0.05],\n",
        "    'learning_rate':['constant','adaptive'],\n",
        "}"
      ]
    },
    {
      "cell_type": "code",
      "execution_count": null,
      "metadata": {
        "id": "48dzDJKjkhmH"
      },
      "outputs": [],
      "source": [
        "from sklearn.model_selection import GridSearchCV\n",
        "\n",
        "clf = GridSearchCV(mlp, parameter_space, n_jobs=-1, cv=3)\n",
        "clf.fit(train_x, train_y)"
      ]
    },
    {
      "cell_type": "code",
      "execution_count": null,
      "metadata": {
        "id": "3l9Zkh43khmI"
      },
      "outputs": [],
      "source": [
        "# Best paramete set\n",
        "print('Best parameters found:\\n', clf.best_params_)\n",
        "\n",
        "# All results\n",
        "means = clf.cv_results_['mean_test_score']\n",
        "stds = clf.cv_results_['std_test_score']\n",
        "for mean, std, params in zip(means, stds, clf.cv_results_['params']):\n",
        "    print(\"%0.3f (+/-%0.03f) for %r\" % (mean, std * 2, params))"
      ]
    },
    {
      "cell_type": "code",
      "execution_count": null,
      "metadata": {
        "id": "8kJZVu6VkhmJ"
      },
      "outputs": [],
      "source": [
        "y_true, y_pred = val_y , clf.predict(val_x)\n",
        "\n",
        "from sklearn.metrics import classification_report\n",
        "print('Results on the test set:')\n",
        "print(classification_report(y_true, y_pred))\n",
        "print (\"Accuracy Score: \", accuracy_score(y_true, y_pred))"
      ]
    },
    {
      "cell_type": "code",
      "execution_count": null,
      "metadata": {
        "id": "PkJ2HDkNkhmK"
      },
      "outputs": [],
      "source": [
        "from sklearn.neural_network import MLPClassifier\n",
        "from sklearn.ensemble import RandomForestClassifier\n",
        "\n",
        "train_x, val_x, train_y, val_y = train_test_split(rep_x, rep_y, test_size=0.40)\n",
        "#clf = LogisticRegression(solver=\"lbfgs\").fit(train_x, train_y)\n",
        "clf = MLPClassifier(random_state=1, max_iter=300).fit(train_x, train_y)\n",
        "#clf = RandomForestClassifier(max_depth=2,random_state=0).fit(train_x,train_y)\n",
        "#clf= MLPClassifier(solver='adam', activation='relu',alpha=1e-4,hidden_layer_sizes=(50,50,50), random_state=1,max_iter=11,verbose=10,learning_rate_init=.1).fit(train_x, train_y)\n",
        "pred_y = clf.predict(val_x)\n",
        "\n",
        "print (\"\")\n",
        "print (\"Classification Report: \")\n",
        "print (classification_report(val_y, pred_y))\n",
        "\n",
        "print (\"\")\n",
        "print (\"Accuracy Score: \", accuracy_score(val_y, pred_y))"
      ]
    },
    {
      "cell_type": "code",
      "execution_count": null,
      "metadata": {
        "id": "CXmMW8nMkhmK"
      },
      "outputs": [],
      "source": [
        "from sklearn.neural_network import MLPClassifier\n",
        "mlp = MLPClassifier(max_iter=100)\n",
        "\n"
      ]
    },
    {
      "cell_type": "code",
      "execution_count": null,
      "metadata": {
        "id": "Vo8RaBnLkhmL"
      },
      "outputs": [],
      "source": [
        "from sklearn.model_selection import GridSearchCV\n",
        "\n",
        "clf = GridSearchCV(mlp, parameter_space, n_jobs=-1, cv=3)\n",
        "clf.fit(DEAP_x_train, DEAP_y_train)"
      ]
    },
    {
      "cell_type": "code",
      "execution_count": null,
      "metadata": {
        "id": "dHdkf80ekhmL"
      },
      "outputs": [],
      "source": [
        "# Best paramete set\n",
        "print('Best parameters found:\\n', clf.best_params_)\n",
        "\n",
        "# All results\n",
        "means = clf.cv_results_['mean_test_score']\n",
        "stds = clf.cv_results_['std_test_score']\n",
        "for mean, std, params in zip(means, stds, clf.cv_results_['params']):\n",
        "    print(\"%0.3f (+/-%0.03f) for %r\" % (mean, std * 2, params))"
      ]
    },
    {
      "cell_type": "code",
      "execution_count": null,
      "metadata": {
        "id": "tmBKQIdvkhmL"
      },
      "outputs": [],
      "source": [
        "y_true, y_pred = DEAP_y_test , clf.predict(DEAP_x_test)\n",
        "\n",
        "from sklearn.metrics import classification_report\n",
        "print('Results on the test set:')\n",
        "print(classification_report(y_true, y_pred))"
      ]
    }
  ],
  "metadata": {
    "kernelspec": {
      "display_name": "Python 3",
      "language": "python",
      "name": "python3"
    },
    "language_info": {
      "codemirror_mode": {
        "name": "ipython",
        "version": 3
      },
      "file_extension": ".py",
      "mimetype": "text/x-python",
      "name": "python",
      "nbconvert_exporter": "python",
      "pygments_lexer": "ipython3",
      "version": "3.8.5"
    },
    "colab": {
      "provenance": []
    }
  },
  "nbformat": 4,
  "nbformat_minor": 0
}