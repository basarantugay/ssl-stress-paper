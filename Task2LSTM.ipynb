{
  "cells": [
    {
      "cell_type": "code",
      "execution_count": null,
      "metadata": {
        "id": "bZiqm4sxiJ1B"
      },
      "outputs": [],
      "source": [
        "conda install -c pytorch pytorch"
      ]
    },
    {
      "cell_type": "markdown",
      "metadata": {
        "id": "juDDwe9-gS5D"
      },
      "source": [
        "#**Package imports**"
      ]
    },
    {
      "cell_type": "code",
      "execution_count": null,
      "metadata": {
        "id": "SQzlU_7lK_-7"
      },
      "outputs": [],
      "source": [
        "import pandas as pd\n",
        "import numpy as np\n",
        "import torch\n",
        "from torch import nn\n",
        "from matplotlib import pyplot as plt\n",
        "from sklearn.metrics import accuracy_score,classification_report,f1_score,recall_score,precision_score,roc_curve,auc,roc_auc_score\n",
        "from sklearn.model_selection import TimeSeriesSplit\n",
        "from sklearn.preprocessing import StandardScaler\n",
        "from tqdm import tqdm\n",
        "import torch\n",
        "from torch.utils.data import Dataset,DataLoader\n",
        "from torch import nn as nn\n"
      ]
    },
    {
      "cell_type": "markdown",
      "metadata": {
        "id": "nueAQWKwgZNr"
      },
      "source": [
        "#Read Database"
      ]
    },
    {
      "cell_type": "code",
      "execution_count": null,
      "metadata": {
        "id": "V89lHCXcLDZK"
      },
      "outputs": [],
      "source": [
        "dataset = pd.read_csv(\"data.csv\") #Load dataset\n",
        "# delete unnecessaey columns\n",
        "dataset = dataset.drop(['SubjectID','SessionID','Unnamed: 0',\"Unnamed: 0.1\",\"Unnamed: 0.1.1\"],axis = 1)\n",
        "#extract independent variables\n",
        "independent_varaibles = dataset.iloc[:,1:]\n",
        "#extract dependent variables\n",
        "dependent_variable = dataset.iloc[:,0]\n",
        "scalar = StandardScaler()\n",
        "independent_varaibles = scalar.fit_transform(independent_varaibles)"
      ]
    },
    {
      "cell_type": "code",
      "execution_count": null,
      "metadata": {
        "id": "6rsf5XgicMHt"
      },
      "outputs": [],
      "source": [
        "train_x , train_y = [],[]\n",
        "for i in range(0,dependent_variable.shape[0],600):\n",
        "  train_x.append(independent_varaibles[i:i+600,:])\n",
        "  train_y.append(dependent_variable[i])\n",
        "train_x,train_y = np.array(train_x),np.array(train_y)"
      ]
    },
    {
      "cell_type": "markdown",
      "metadata": {
        "id": "Vxef4FP4geE3"
      },
      "source": [
        "#Creating Custom Pytorch Dataset"
      ]
    },
    {
      "cell_type": "code",
      "execution_count": null,
      "metadata": {
        "id": "8UwjF68YJIh0"
      },
      "outputs": [],
      "source": [
        "class CustomDataset(Dataset):\n",
        "  def __init__(self,x,y):\n",
        "    # x : feature vector\n",
        "    # y : label\n",
        "    super(CustomDataset,self).__init__()\n",
        "    self.x = np.array(x)\n",
        "    self.y = np.array(y)\n",
        "    # return length\n",
        "  def __len__(self):\n",
        "    return self.x.shape[0]\n",
        "    # get item based on index\n",
        "  def __getitem__(self,index):\n",
        "    return (torch.tensor(self.x[index],dtype = torch.float32),torch.tensor(self.y[index],dtype=torch.float32))"
      ]
    },
    {
      "cell_type": "markdown",
      "metadata": {
        "id": "R5q-AWsKghz8"
      },
      "source": [
        "#LSTM Architecture"
      ]
    },
    {
      "cell_type": "code",
      "execution_count": null,
      "metadata": {
        "id": "HOwNgOc2JLHV"
      },
      "outputs": [],
      "source": [
        "class LSTMNetwork(nn.Module):\n",
        "  def __init__(self,n_features =4 ,hidden_size = 20,n_layers = 1):\n",
        "    super(LSTMNetwork,self).__init__()\n",
        "    self.n_features = n_features # no of features for our case 4\n",
        "    self.n_layers = n_layers # num of layers in LSTM\n",
        "    self.lstm = nn.RNN(input_size=self.n_features,hidden_size=hidden_size,num_layers = self.n_layers,batch_first = True)\n",
        "    self.fc = nn.Sequential(nn.Linear(in_features=12000,out_features = 1000),\n",
        "                            nn.ReLU(),\n",
        "                            nn.BatchNorm1d(1000),\n",
        "                            nn.Linear(in_features = 1000,out_features = 1),\n",
        "                            nn.Sigmoid())\n",
        "  def forward(self,x):\n",
        "    output,_ = self.lstm(x)\n",
        "    output = output.reshape(output.size(0),-1)\n",
        "    output = self.fc(output)\n",
        "    return output"
      ]
    },
    {
      "cell_type": "markdown",
      "metadata": {
        "id": "eXm_WSGogpph"
      },
      "source": [
        "# Training Process of LSTM Architecure"
      ]
    },
    {
      "cell_type": "code",
      "execution_count": null,
      "metadata": {
        "id": "YH0lvlDRLK_F"
      },
      "outputs": [],
      "source": [
        "# time series split\n",
        "tscv = TimeSeriesSplit(n_splits=5)\n",
        "# batch size\n",
        "batch_size = 128\n",
        "# no of epochs\n",
        "n_epochs = 100\n",
        "train_avg_loss = []\n",
        "train_avg_accuracy = []\n",
        "val_avg_loss = []\n",
        "val_avg_accuracy = []\n",
        "train_avg_f1score = []\n",
        "val_avg_f1score = []\n",
        "train_avg_recall , val_avg_recall = [],[]\n",
        "train_avg_precision , val_avg_precision = [],[]\n",
        "train_avg_roc_auc , val_avg_roc_auc = [],[]\n",
        "# determine current device\n",
        "device = torch.device(\"cuda\" if torch.cuda.is_available() else \"cpu\")\n",
        "# define lstm model\n",
        "lstm_model = LSTMNetwork().to(device)\n",
        "# define optimizer for gardient calculate\n",
        "optimizer = torch.optim.Adam(lstm_model.parameters())\n",
        "# used BCE loss which need sigmoid activation fuction at end\n",
        "criterion = nn.BCELoss()\n",
        "for epoch in tqdm(range(n_epochs)):\n",
        "  train_epoch_loss , train_epoch_accuracy = [],[]\n",
        "  val_epoch_loss, val_epoch_accuracy = [],[]\n",
        "  train_epoch_f1score , val_epoch_f1score = [],[]\n",
        "  train_epoch_precision , val_epoch_precision = [],[]\n",
        "  train_epoch_recall , val_epoch_recall = [],[]\n",
        "  train_epoch_roc_auc , val_epoch_roc_auc = [],[]\n",
        "  # iterating through k-fold cross validation where k = 5\n",
        "  for k_no,(train_index ,validation_index) in enumerate(tscv.split(train_x)):\n",
        "    x_train,x_validate = train_x[train_index,:] ,train_x[validation_index,:]\n",
        "    y_train,y_validate = train_y[train_index],train_y[validation_index]\n",
        "    # create training dataset object\n",
        "    train_dataset = CustomDataset(x_train,y_train)\n",
        "    # create validation dataset objet\n",
        "    validation_dataset = CustomDataset(x_validate,y_validate)\n",
        "    # create train dataloader\n",
        "    train_dataloader = DataLoader(dataset = train_dataset,batch_size = batch_size,shuffle = False)\n",
        "    # create test dataloader\n",
        "    validation_dataloader = DataLoader(dataset = validation_dataset,batch_size = batch_size , shuffle = False)\n",
        "    predict , ground_truth = [],[]\n",
        "    losses = 0.0\n",
        "    # training\n",
        "    for batch_id,(data,label) in enumerate(train_dataloader):\n",
        "      data = data.to(device)\n",
        "      #data = data.view(data.size(0),1,data.size(1))\n",
        "      label = label.to(device)\n",
        "      # forward pass\n",
        "      output = lstm_model(data)\n",
        "      # calulate loss\n",
        "      loss = criterion(output.squeeze(1),label)\n",
        "      losses += loss.item()\n",
        "      # clearing gradient of all parameters in neurals\n",
        "      optimizer.zero_grad()\n",
        "      # backward pass\n",
        "      loss.backward()\n",
        "      # weight update of neurons\n",
        "      optimizer.step()\n",
        "      # if batch_id % 1000 == 0:\n",
        "      #   print(f\"Training : EPOCH:{epoch}|{n_epochs},K_FOLD:{k_no}|{2},BATCH : {batch_id}|{len(train_dataloader)} , LOSS : {losses:.3f}\")\n",
        "      predict.extend([x[0]for x in torch.round(output).cpu().tolist()])\n",
        "      ground_truth.extend(label.cpu().tolist())\n",
        "    # calculate train acuuracy\n",
        "    train_epoch_accuracy.append(accuracy_score(ground_truth,predict))\n",
        "    # calculate train loss\n",
        "    train_epoch_loss.append(losses/(len(train_dataloader)*batch_size))\n",
        "    train_epoch_f1score.append(f1_score(ground_truth,predict))\n",
        "    train_epoch_recall.append(recall_score(ground_truth,predict))\n",
        "    train_epoch_precision.append(precision_score(ground_truth,predict))\n",
        "    train_epoch_roc_auc.append(roc_auc_score(ground_truth,predict))\n",
        "    losses = 0.0\n",
        "    predict , ground_truth = [],[]\n",
        "    # validation of dataset without calculate gradient\n",
        "    with torch.no_grad():\n",
        "      for batch_id,(data,label) in enumerate(validation_dataloader):\n",
        "        data = data.to(device)\n",
        "        #data = data.view(data.size(0),1,data.size(1))\n",
        "        label = label.to(device)\n",
        "        # forward pass\n",
        "        output = lstm_model(data)\n",
        "        # calculate validation loss\n",
        "        loss = criterion(output.squeeze(1),label)\n",
        "        losses += loss.item()\n",
        "        # if batch_id % 1000 == 0:\n",
        "        #   print(f\"Validation : EPOCH:{epoch}|{n_epochs},K_FOLD:{k_no}|{2},BATCH : {batch_id}|{len(validation_dataloader)} , LOSS : {losses:.3f}\")\n",
        "        predict.extend([x[0]for x in torch.round(output).cpu().tolist()])\n",
        "        ground_truth.extend(label.cpu().tolist())\n",
        "        # validation accuracy\n",
        "      val_epoch_accuracy.append(accuracy_score(ground_truth,predict))\n",
        "      #validation loss\n",
        "      val_epoch_loss.append(losses/(len(validation_dataloader)*batch_size))\n",
        "      val_epoch_f1score.append(f1_score(ground_truth,predict))\n",
        "      val_epoch_recall.append(recall_score(ground_truth,predict))\n",
        "      val_epoch_precision.append(precision_score(ground_truth,predict))\n",
        "      val_epoch_roc_auc.append(roc_auc_score(ground_truth,predict))\n",
        "  # train loss average of all k-fold\n",
        "  train_avg_loss.append(np.mean(train_epoch_loss))\n",
        "  # train acuuracy,f1score,recall,precision,roc_auc average of all k-fold\n",
        "  train_avg_accuracy.append(np.mean(train_epoch_accuracy)*100)\n",
        "  train_avg_f1score.append(np.mean(train_epoch_f1score)*100)\n",
        "  train_avg_recall.append(np.mean(train_epoch_recall)*100)\n",
        "  train_avg_precision.append(np.mean(train_epoch_precision)*100)\n",
        "  train_avg_roc_auc.append(np.mean(train_epoch_roc_auc)*100)\n",
        "  # validation loss average of all k fold\n",
        "  val_avg_loss.append(np.mean(val_epoch_loss))\n",
        "  # val acuuracy,f1score,recall,precision,roc_auc average of all k-fold\n",
        "  val_avg_accuracy.append(np.mean(val_epoch_accuracy)*100)\n",
        "  val_avg_f1score.append(np.mean(val_epoch_f1score)*100)\n",
        "  val_avg_recall.append(np.mean(val_epoch_recall)*100)\n",
        "  val_avg_precision.append(np.mean(val_epoch_precision)*100)\n",
        "  val_avg_roc_auc.append(np.mean(val_epoch_roc_auc)*100)\n",
        ""
      ]
    },
    {
      "cell_type": "markdown",
      "metadata": {
        "id": "4oVDTLRwgzkh"
      },
      "source": [
        "#Train vs Validation loss epoch wise"
      ]
    },
    {
      "cell_type": "code",
      "execution_count": null,
      "metadata": {
        "id": "0qnaJV2DEP2G"
      },
      "outputs": [],
      "source": [
        "from matplotlib import pyplot as plt\n",
        "plt.plot(list(range(n_epochs)),train_avg_loss,label=\"Train Loss\")\n",
        "plt.plot(list(range(n_epochs)),val_avg_loss,label = \"val Loss\")\n",
        "plt.xlabel(\"Epochs\")\n",
        "plt.ylabel(\"Loss\")\n",
        "plt.legend()\n",
        "plt.show()"
      ]
    },
    {
      "cell_type": "markdown",
      "metadata": {
        "id": "W2HVzpzVg4ei"
      },
      "source": [
        "# Train vs validation accuracy epoch wise"
      ]
    },
    {
      "cell_type": "code",
      "execution_count": null,
      "metadata": {
        "id": "In3smTlYElWl"
      },
      "outputs": [],
      "source": [
        "plt.plot(list(range(n_epochs)),train_avg_accuracy,label=\"Train Accuracy\")\n",
        "plt.plot(list(range(n_epochs)),val_avg_accuracy,label = \"val Accuracy\")\n",
        "plt.xlabel(\"Epochs\")\n",
        "plt.ylabel(\"Accuracy\")\n",
        "plt.legend()\n",
        "plt.show()"
      ]
    },
    {
      "cell_type": "markdown",
      "metadata": {
        "id": "WZ5fw9rSg8jf"
      },
      "source": [
        "## Training Vs Validation f1score epochs wise"
      ]
    },
    {
      "cell_type": "code",
      "execution_count": null,
      "metadata": {
        "id": "vOrjrOAy1mZ1"
      },
      "outputs": [],
      "source": [
        "plt.plot(list(range(n_epochs)),train_avg_f1score,label=\"Train f1score\")\n",
        "plt.plot(list(range(n_epochs)),val_avg_f1score,label = \"val f1score\")\n",
        "plt.xlabel(\"Epochs\")\n",
        "plt.ylabel(\"f1score\")\n",
        "plt.legend()\n",
        "plt.show()"
      ]
    },
    {
      "cell_type": "markdown",
      "metadata": {
        "id": "uugaUDqh1opG"
      },
      "source": [
        "## Training Vs Validation recall epochs wise"
      ]
    },
    {
      "cell_type": "code",
      "execution_count": null,
      "metadata": {
        "id": "cu2Tlyjo1uLk"
      },
      "outputs": [],
      "source": [
        "plt.plot(list(range(n_epochs)),train_avg_recall,label=\"Train recall\")\n",
        "plt.plot(list(range(n_epochs)),val_avg_recall,label = \"val recall\")\n",
        "plt.xlabel(\"Epochs\")\n",
        "plt.ylabel(\"recall\")\n",
        "plt.legend()\n",
        "plt.show()"
      ]
    },
    {
      "cell_type": "markdown",
      "metadata": {
        "id": "-WSiGcfn1xk6"
      },
      "source": [
        "## Training Vs Validation precision epochs wise"
      ]
    },
    {
      "cell_type": "code",
      "execution_count": null,
      "metadata": {
        "id": "vcu7jKe910MF"
      },
      "outputs": [],
      "source": [
        "plt.plot(list(range(n_epochs)),train_avg_precision,label=\"Train precision\")\n",
        "plt.plot(list(range(n_epochs)),val_avg_precision,label = \"val precision\")\n",
        "plt.xlabel(\"Epochs\")\n",
        "plt.ylabel(\"precision\")\n",
        "plt.legend()\n",
        "plt.show()"
      ]
    },
    {
      "cell_type": "markdown",
      "metadata": {
        "id": "e4aHzKgg11Tf"
      },
      "source": [
        "## Training Vs Validation roc_auc epochs wise"
      ]
    },
    {
      "cell_type": "code",
      "execution_count": null,
      "metadata": {
        "id": "BATADyJc13rw"
      },
      "outputs": [],
      "source": [
        "plt.plot(list(range(n_epochs)),train_avg_roc_auc,label=\"Train roc_auc\")\n",
        "plt.plot(list(range(n_epochs)),val_avg_roc_auc,label = \"val roc_auc\")\n",
        "plt.xlabel(\"Epochs\")\n",
        "plt.ylabel(\"roc_auc\")\n",
        "plt.legend()\n",
        "plt.show()"
      ]
    },
    {
      "cell_type": "markdown",
      "metadata": {
        "id": "QGiadupRg_nK"
      },
      "source": [
        "#Save trained Model"
      ]
    },
    {
      "cell_type": "code",
      "execution_count": null,
      "metadata": {
        "id": "NhIcvevXFO2e"
      },
      "outputs": [],
      "source": [
        "#Uncomment if you start fresh training process\n",
        "torch.save(lstm_model.state_dict(),\"drive/MyDrive/lstm_model.pt\")"
      ]
    }
  ],
  "metadata": {
    "accelerator": "GPU",
    "colab": {
      "provenance": []
    },
    "kernelspec": {
      "display_name": "Python 3 (ipykernel)",
      "language": "python",
      "name": "python3"
    },
    "language_info": {
      "codemirror_mode": {
        "name": "ipython",
        "version": 3
      },
      "file_extension": ".py",
      "mimetype": "text/x-python",
      "name": "python",
      "nbconvert_exporter": "python",
      "pygments_lexer": "ipython3",
      "version": "3.9.7"
    }
  },
  "nbformat": 4,
  "nbformat_minor": 0
}