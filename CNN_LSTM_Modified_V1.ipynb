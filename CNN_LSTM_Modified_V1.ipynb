{
 "cells": [
  {
   "cell_type": "code",
   "execution_count": 1,
   "metadata": {
    "id": "tUqhRJwwtiVr"
   },
   "outputs": [],
   "source": [
    "## Importing the necessary libraries\n",
    "import pandas as pd\n",
    "import numpy as np\n",
    "import matplotlib.pyplot as plt\n",
    "from sklearn.model_selection import train_test_split\n",
    "from keras.models import Sequential\n",
    "from keras.layers import Dense\n",
    "from keras.layers import LSTM\n",
    "from keras.layers import Flatten\n",
    "from keras.layers import TimeDistributed\n",
    "from keras.callbacks import ModelCheckpoint\n",
    "from keras.layers.convolutional import Conv1D\n",
    "from keras.layers.convolutional import MaxPooling1D\n",
    "from sklearn.model_selection import TimeSeriesSplit\n",
    "import warnings\n",
    "warnings.filterwarnings('ignore')\n",
    "np.random.seed(7)"
   ]
  },
  {
   "cell_type": "code",
   "execution_count": 2,
   "metadata": {
    "id": "NP8RcnwutlYp"
   },
   "outputs": [],
   "source": [
    "#from google.colab import drive\n",
    "#drive.mount('/content/drive')"
   ]
  },
  {
   "cell_type": "code",
   "execution_count": 81,
   "metadata": {
    "colab": {
     "base_uri": "https://localhost:8080/"
    },
    "id": "vyZ4OyAmuGKf",
    "outputId": "f080f8ba-27c0-481b-e295-6392bc7c0343"
   },
   "outputs": [
    {
     "name": "stdout",
     "output_type": "stream",
     "text": [
      "Downloading...\n",
      "From: https://drive.google.com/uc?id=1kacT9Oyf63iMz09KaUK5Gkj59PBNUO1Y\n",
      "To: /content/lastdata.csv\n",
      "100% 188M/188M [00:01<00:00, 179MB/s]\n"
     ]
    }
   ],
   "source": [
    "## Downloading file through google drive link you shared\n",
    "\n",
    "!gdown --id 1kacT9Oyf63iMz09KaUK5Gkj59PBNUO1Y"
   ]
  },
  {
   "cell_type": "code",
   "execution_count": 3,
   "metadata": {
    "id": "bTK6g7yYX8dd"
   },
   "outputs": [],
   "source": [
    "df = pd.read_csv('lastdata.csv', low_memory=False)"
   ]
  },
  {
   "cell_type": "code",
   "execution_count": 4,
   "metadata": {
    "colab": {
     "base_uri": "https://localhost:8080/",
     "height": 419
    },
    "id": "-jgEWymGuQLp",
    "outputId": "fbffc2db-e216-42eb-aca7-274749c2d5b8"
   },
   "outputs": [
    {
     "data": {
      "text/html": [
       "<div>\n",
       "<style scoped>\n",
       "    .dataframe tbody tr th:only-of-type {\n",
       "        vertical-align: middle;\n",
       "    }\n",
       "\n",
       "    .dataframe tbody tr th {\n",
       "        vertical-align: top;\n",
       "    }\n",
       "\n",
       "    .dataframe thead th {\n",
       "        text-align: right;\n",
       "    }\n",
       "</style>\n",
       "<table border=\"1\" class=\"dataframe\">\n",
       "  <thead>\n",
       "    <tr style=\"text-align: right;\">\n",
       "      <th></th>\n",
       "      <th>SessionLabel</th>\n",
       "      <th>Feature1</th>\n",
       "      <th>Feature2</th>\n",
       "      <th>Feature3</th>\n",
       "      <th>Feature4</th>\n",
       "    </tr>\n",
       "  </thead>\n",
       "  <tbody>\n",
       "    <tr>\n",
       "      <th>0</th>\n",
       "      <td>0</td>\n",
       "      <td>63.887988</td>\n",
       "      <td>-4.135781</td>\n",
       "      <td>0.525486</td>\n",
       "      <td>32.7500</td>\n",
       "    </tr>\n",
       "    <tr>\n",
       "      <th>1</th>\n",
       "      <td>0</td>\n",
       "      <td>63.928384</td>\n",
       "      <td>4.445938</td>\n",
       "      <td>0.485454</td>\n",
       "      <td>32.7650</td>\n",
       "    </tr>\n",
       "    <tr>\n",
       "      <th>2</th>\n",
       "      <td>0</td>\n",
       "      <td>63.883930</td>\n",
       "      <td>3.243750</td>\n",
       "      <td>0.524845</td>\n",
       "      <td>32.7700</td>\n",
       "    </tr>\n",
       "    <tr>\n",
       "      <th>3</th>\n",
       "      <td>0</td>\n",
       "      <td>63.760831</td>\n",
       "      <td>-2.938281</td>\n",
       "      <td>0.524525</td>\n",
       "      <td>32.7850</td>\n",
       "    </tr>\n",
       "    <tr>\n",
       "      <th>4</th>\n",
       "      <td>0</td>\n",
       "      <td>63.568750</td>\n",
       "      <td>-4.781094</td>\n",
       "      <td>0.520682</td>\n",
       "      <td>32.7900</td>\n",
       "    </tr>\n",
       "    <tr>\n",
       "      <th>...</th>\n",
       "      <td>...</td>\n",
       "      <td>...</td>\n",
       "      <td>...</td>\n",
       "      <td>...</td>\n",
       "      <td>...</td>\n",
       "    </tr>\n",
       "    <tr>\n",
       "      <th>2171995</th>\n",
       "      <td>1</td>\n",
       "      <td>62.943662</td>\n",
       "      <td>-10.099219</td>\n",
       "      <td>0.595250</td>\n",
       "      <td>33.1750</td>\n",
       "    </tr>\n",
       "    <tr>\n",
       "      <th>2171996</th>\n",
       "      <td>1</td>\n",
       "      <td>62.980791</td>\n",
       "      <td>4.822344</td>\n",
       "      <td>0.598454</td>\n",
       "      <td>33.2025</td>\n",
       "    </tr>\n",
       "    <tr>\n",
       "      <th>2171997</th>\n",
       "      <td>1</td>\n",
       "      <td>63.007564</td>\n",
       "      <td>-5.121875</td>\n",
       "      <td>0.597813</td>\n",
       "      <td>33.1875</td>\n",
       "    </tr>\n",
       "    <tr>\n",
       "      <th>2171998</th>\n",
       "      <td>1</td>\n",
       "      <td>62.996620</td>\n",
       "      <td>1.917500</td>\n",
       "      <td>0.594609</td>\n",
       "      <td>33.1800</td>\n",
       "    </tr>\n",
       "    <tr>\n",
       "      <th>2171999</th>\n",
       "      <td>1</td>\n",
       "      <td>62.969647</td>\n",
       "      <td>-10.777969</td>\n",
       "      <td>0.591085</td>\n",
       "      <td>33.1800</td>\n",
       "    </tr>\n",
       "  </tbody>\n",
       "</table>\n",
       "<p>2172000 rows × 5 columns</p>\n",
       "</div>"
      ],
      "text/plain": [
       "         SessionLabel   Feature1   Feature2  Feature3  Feature4\n",
       "0                   0  63.887988  -4.135781  0.525486   32.7500\n",
       "1                   0  63.928384   4.445938  0.485454   32.7650\n",
       "2                   0  63.883930   3.243750  0.524845   32.7700\n",
       "3                   0  63.760831  -2.938281  0.524525   32.7850\n",
       "4                   0  63.568750  -4.781094  0.520682   32.7900\n",
       "...               ...        ...        ...       ...       ...\n",
       "2171995             1  62.943662 -10.099219  0.595250   33.1750\n",
       "2171996             1  62.980791   4.822344  0.598454   33.2025\n",
       "2171997             1  63.007564  -5.121875  0.597813   33.1875\n",
       "2171998             1  62.996620   1.917500  0.594609   33.1800\n",
       "2171999             1  62.969647 -10.777969  0.591085   33.1800\n",
       "\n",
       "[2172000 rows x 5 columns]"
      ]
     },
     "execution_count": 4,
     "metadata": {},
     "output_type": "execute_result"
    }
   ],
   "source": [
    "df = df.drop(columns=df.columns[:5])\n",
    "df"
   ]
  },
  {
   "cell_type": "code",
   "execution_count": 5,
   "metadata": {
    "id": "SXntyLsTvVhP"
   },
   "outputs": [],
   "source": [
    "# apply the z-score normalization\n",
    "def normalize(df):\n",
    "    # copy the dataframe\n",
    "    df_normal = df.copy()\n",
    "    # apply the normalization in feature columns only\n",
    "    for col in df_normal.columns[1:]:\n",
    "        df_normal[col] = (df_normal[col] - df_normal[col].mean()) / df_normal[col].std()\n",
    "    return df_normal\n",
    "    \n",
    "# call the normalize function\n",
    "df_normal = normalize(df)\n",
    "df_normal['label'] = df_normal['SessionLabel']\n",
    "df = None\n",
    "df_normal = df_normal.drop(columns=['SessionLabel'])"
   ]
  },
  {
   "cell_type": "code",
   "execution_count": 6,
   "metadata": {
    "id": "Str3-HoLEI2q"
   },
   "outputs": [],
   "source": [
    "# here we are splitting a multivariate (4 variables or features) sequence into samples\n",
    "# because the LSTM required certain input shape (of the form [batch_size, time_steps, features])\n",
    "def seq_to_samples(sequences, n_steps):\n",
    "    X, y = list(), list()\n",
    "    for i in range(len(sequences)):\n",
    "      # find the end of this pattern\n",
    "      end_ix = i + n_steps\n",
    "      # check if we are beyond the dataset\n",
    "      if end_ix > len(sequences):\n",
    "        break\n",
    "      # gather input and output parts of the pattern\n",
    "      seq_x, seq_y = sequences[i:end_ix, :-1], sequences[end_ix-1, -1]\n",
    "      X.append(seq_x)\n",
    "      y.append(seq_y)\n",
    "    return np.array(X), np.array(y)"
   ]
  },
  {
   "cell_type": "code",
   "execution_count": 7,
   "metadata": {
    "id": "GxZwVrviEwnp"
   },
   "outputs": [],
   "source": [
    "n_steps = 12\n",
    "# convert into input/output\n",
    "X, y = seq_to_samples(df_normal.to_numpy(), n_steps)"
   ]
  },
  {
   "cell_type": "code",
   "execution_count": 8,
   "metadata": {
    "colab": {
     "base_uri": "https://localhost:8080/"
    },
    "id": "Gu-2TwjbGvlX",
    "outputId": "ca9a02b6-34d0-45d7-9660-2af7ee08519f"
   },
   "outputs": [
    {
     "data": {
      "text/plain": [
       "((2171989, 12, 4), (2171989,))"
      ]
     },
     "execution_count": 8,
     "metadata": {},
     "output_type": "execute_result"
    }
   ],
   "source": [
    "X.shape, y.shape"
   ]
  },
  {
   "cell_type": "code",
   "execution_count": 9,
   "metadata": {
    "id": "L8Grgdl9Fjql"
   },
   "outputs": [],
   "source": [
    "df_normal = None # Setting it to none for memory purpose (so that memory does not exceed)"
   ]
  },
  {
   "cell_type": "code",
   "execution_count": 10,
   "metadata": {
    "id": "Hy1G3cZfvWeB"
   },
   "outputs": [],
   "source": [
    "tscv = TimeSeriesSplit(n_splits=3)\n",
    "\n",
    "for train_index, test_index in tscv.split(X):\n",
    "    X_train, X_test = X[train_index], X[test_index]\n",
    "    y_train, y_test = y[train_index], y[test_index]"
   ]
  },
  {
   "cell_type": "code",
   "execution_count": 11,
   "metadata": {
    "id": "IhlnK-GqxPqx"
   },
   "outputs": [],
   "source": [
    "X, y = None, None # Setting it to none for memory purpose (so that memory does not exceed)\n",
    "n_features = X_train.shape[-1] # Number of features"
   ]
  },
  {
   "cell_type": "code",
   "execution_count": 12,
   "metadata": {
    "colab": {
     "base_uri": "https://localhost:8080/"
    },
    "id": "bWKSNceyA1hq",
    "outputId": "1e1bcea3-ff53-4078-fb46-ffaabc3e1dec"
   },
   "outputs": [
    {
     "data": {
      "text/plain": [
       "(1628992, 12, 4)"
      ]
     },
     "execution_count": 12,
     "metadata": {},
     "output_type": "execute_result"
    }
   ],
   "source": [
    "X_train.shape"
   ]
  },
  {
   "cell_type": "markdown",
   "metadata": {
    "id": "yhFh5-9WkJoy"
   },
   "source": [
    "## LSTM"
   ]
  },
  {
   "cell_type": "code",
   "execution_count": 14,
   "metadata": {
    "colab": {
     "base_uri": "https://localhost:8080/"
    },
    "id": "NUvHDdoW3Zbz",
    "outputId": "2c1134e4-788e-4f79-a021-5099e63f0b4c"
   },
   "outputs": [
    {
     "name": "stdout",
     "output_type": "stream",
     "text": [
      "Model: \"sequential_1\"\n",
      "_________________________________________________________________\n",
      "Layer (type)                 Output Shape              Param #   \n",
      "=================================================================\n",
      "lstm_1 (LSTM)                (None, 18)                1656      \n",
      "_________________________________________________________________\n",
      "dense_1 (Dense)              (None, 1)                 19        \n",
      "=================================================================\n",
      "Total params: 1,675\n",
      "Trainable params: 1,675\n",
      "Non-trainable params: 0\n",
      "_________________________________________________________________\n",
      "None\n",
      "Epoch 1/9\n",
      "554/554 [==============================] - 15s 24ms/step - loss: 0.5728 - accuracy: 0.7379 - val_loss: 0.5152 - val_accuracy: 0.8191\n",
      "Epoch 2/9\n",
      "554/554 [==============================] - 12s 22ms/step - loss: 0.5311 - accuracy: 0.7554 - val_loss: 0.5277 - val_accuracy: 0.8141\n",
      "Epoch 3/9\n",
      "554/554 [==============================] - 12s 22ms/step - loss: 0.5246 - accuracy: 0.7558 - val_loss: 0.5200 - val_accuracy: 0.8024\n",
      "Epoch 4/9\n",
      "554/554 [==============================] - 13s 23ms/step - loss: 0.5193 - accuracy: 0.7574 - val_loss: 0.5270 - val_accuracy: 0.8047\n",
      "Epoch 5/9\n",
      "554/554 [==============================] - 12s 22ms/step - loss: 0.5158 - accuracy: 0.7585 - val_loss: 0.5288 - val_accuracy: 0.8014\n",
      "Epoch 6/9\n",
      "554/554 [==============================] - 12s 23ms/step - loss: 0.5137 - accuracy: 0.7598 - val_loss: 0.5265 - val_accuracy: 0.8070\n",
      "Epoch 7/9\n",
      "554/554 [==============================] - 12s 22ms/step - loss: 0.5115 - accuracy: 0.7615 - val_loss: 0.5436 - val_accuracy: 0.7988\n",
      "Epoch 8/9\n",
      "554/554 [==============================] - 12s 22ms/step - loss: 0.5072 - accuracy: 0.7646 - val_loss: 0.5171 - val_accuracy: 0.8125\n",
      "Epoch 9/9\n",
      "554/554 [==============================] - 12s 22ms/step - loss: 0.5037 - accuracy: 0.7670 - val_loss: 0.5440 - val_accuracy: 0.7954\n"
     ]
    }
   ],
   "source": [
    "# Here we define our LSTM model. First step is to create a sequence and one by one add the models\n",
    "model = Sequential()\n",
    "# Adding LSTM with 64 nodes and given input shape \n",
    "model.add(LSTM(18, input_shape=(n_steps, n_features)))\n",
    "# Dense model for the output with sigmoid activation (for binary classification)\n",
    "model.add(Dense(1, activation='sigmoid'))\n",
    "# Compiling the model with binary_crossentropy loss and adam optimizer \n",
    "model.compile(loss='binary_crossentropy', optimizer='adam', metrics=['accuracy'])\n",
    "print(model.summary())\n",
    "# Fitting the model with train dataset (for 10 epochs and batch size of 512)\n",
    "\n",
    "#save best True saves only if the metric improves\n",
    "chk = ModelCheckpoint(\"myModel.h5\", monitor='val_loss', save_best_only=False) \n",
    "callbacks_list = [chk]\n",
    "#pass callback on fit\n",
    "history = model.fit(X_train, y_train, validation_split=0.15, epochs=9, batch_size=2500, verbose=1, callbacks=callbacks_list)"
   ]
  },
  {
   "cell_type": "code",
   "execution_count": 15,
   "metadata": {
    "colab": {
     "base_uri": "https://localhost:8080/"
    },
    "id": "hDECnKs_jRPq",
    "outputId": "471b3d17-9276-413d-e9f3-fe60d0a19fc9"
   },
   "outputs": [
    {
     "name": "stdout",
     "output_type": "stream",
     "text": [
      "16969/16969 [==============================] - 22s 1ms/step - loss: 0.7298 - accuracy: 0.6644\n",
      "Accuracy: 66.44%\n"
     ]
    }
   ],
   "source": [
    "# Final evaluation of the model\n",
    "scores = model.evaluate(X_test, y_test, verbose=1)\n",
    "print(\"Accuracy: %.2f%%\" % (scores[1]*100))"
   ]
  },
  {
   "cell_type": "code",
   "execution_count": 16,
   "metadata": {
    "colab": {
     "base_uri": "https://localhost:8080/",
     "height": 295
    },
    "id": "r2_XDfo2ZQZg",
    "outputId": "7f73b0c4-4537-42a6-9d9d-aded4510b3c4"
   },
   "outputs": [
    {
     "data": {
      "image/png": "[encoded data removed]",
      "text/plain": [
       "<Figure size 432x288 with 1 Axes>"
      ]
     },
     "metadata": {
      "needs_background": "light"
     },
     "output_type": "display_data"
    }
   ],
   "source": [
    "# Plotting the loss and accuracy curves\n",
    "\n",
    "plt.plot(history.history['loss'],label='Train loss')\n",
    "plt.plot(history.history['val_loss'],label='Validation loss')\n",
    "plt.xlabel('Epochs')\n",
    "plt.ylabel('Loss')\n",
    "plt.title('Loss vs Epochs')\n",
    "plt.legend()\n",
    "plt.show()"
   ]
  },
  {
   "cell_type": "code",
   "execution_count": 17,
   "metadata": {
    "colab": {
     "base_uri": "https://localhost:8080/",
     "height": 295
    },
    "id": "dWb1Ld3kZ5lK",
    "outputId": "e0365ccf-5673-4c19-9594-ab810a3416be"
   },
   "outputs": [
    {
     "data": {
      "image/png": "[encoded data removed]",
      "text/plain": [
       "<Figure size 432x288 with 1 Axes>"
      ]
     },
     "metadata": {
      "needs_background": "light"
     },
     "output_type": "display_data"
    }
   ],
   "source": [
    "plt.plot(history.history['accuracy'],label='Train Accuracy')\n",
    "plt.plot(history.history['val_accuracy'],label='Validation Accuracy')\n",
    "plt.xlabel('Epochs')\n",
    "plt.ylabel('Accuracy')\n",
    "plt.title('Accuracy vs Epochs')\n",
    "plt.legend()\n",
    "plt.show()"
   ]
  },
  {
   "cell_type": "code",
   "execution_count": 18,
   "metadata": {
    "id": "cJhFInjJBnOQ"
   },
   "outputs": [],
   "source": [
    "##### NOTE #####\n",
    "\n",
    "## As we see that the loss and accuracy has not yet converged \n",
    "## so we can increase the number of epochs and train the model further\n",
    "## to converge the loss (I did it for only 10 epochs because of computational time of the execution)\n",
    "## you can just increase the epochs and wait for the model to converge\n",
    "\n",
    "##### END NOTE #####"
   ]
  },
  {
   "cell_type": "markdown",
   "metadata": {
    "id": "jLApN--Ebt-z"
   },
   "source": [
    "## CNN + LSTM"
   ]
  },
  {
   "cell_type": "code",
   "execution_count": 19,
   "metadata": {
    "id": "WKNOxoJDasnZ"
   },
   "outputs": [],
   "source": [
    "## Now in order to define the CNN + LSTM model we need to define the input shape\n",
    "## in the following method: [time_sequence, time_steps, features] which will be flattened\n",
    "## while passing it to LSTM such that time_sequence is eliminated and we are left with [time_steps, features]\n",
    "## Therefore we are reshaping our inputs (X_train and X_test)\n",
    "n_seq = 3\n",
    "n_steps = 4 \n",
    "X_train = X_train.reshape((X_train.shape[0], n_seq, n_steps, n_features)) \n",
    "X_test = X_test.reshape((X_test.shape[0], n_seq, n_steps, n_features))"
   ]
  },
  {
   "cell_type": "code",
   "execution_count": 20,
   "metadata": {
    "colab": {
     "base_uri": "https://localhost:8080/"
    },
    "id": "O2JtNSEDiuUg",
    "outputId": "6d6e3527-cf59-454b-cd68-bf51569518a1"
   },
   "outputs": [
    {
     "name": "stdout",
     "output_type": "stream",
     "text": [
      "Model: \"sequential_2\"\n",
      "_________________________________________________________________\n",
      "Layer (type)                 Output Shape              Param #   \n",
      "=================================================================\n",
      "time_distributed (TimeDistri (None, None, 4, 64)       320       \n",
      "_________________________________________________________________\n",
      "time_distributed_1 (TimeDist (None, None, 2, 64)       0         \n",
      "_________________________________________________________________\n",
      "time_distributed_2 (TimeDist (None, None, 128)         0         \n",
      "_________________________________________________________________\n",
      "lstm_2 (LSTM)                (None, 64)                49408     \n",
      "_________________________________________________________________\n",
      "dense_2 (Dense)              (None, 1)                 65        \n",
      "=================================================================\n",
      "Total params: 49,793\n",
      "Trainable params: 49,793\n",
      "Non-trainable params: 0\n",
      "_________________________________________________________________\n",
      "None\n",
      "Epoch 1/10\n",
      "5091/5091 [==============================] - 31s 6ms/step - loss: 0.4908 - accuracy: 0.7850 - val_loss: 0.8140 - val_accuracy: 0.6762\n",
      "Epoch 2/10\n",
      "5091/5091 [==============================] - 28s 5ms/step - loss: 0.4511 - accuracy: 0.7996 - val_loss: 0.8644 - val_accuracy: 0.6226\n",
      "Epoch 3/10\n",
      "5091/5091 [==============================] - 28s 6ms/step - loss: 0.4348 - accuracy: 0.8066 - val_loss: 0.8856 - val_accuracy: 0.6471\n",
      "Epoch 4/10\n",
      "5091/5091 [==============================] - 28s 6ms/step - loss: 0.4243 - accuracy: 0.8112 - val_loss: 0.9154 - val_accuracy: 0.6313\n",
      "Epoch 5/10\n",
      "5091/5091 [==============================] - 29s 6ms/step - loss: 0.4166 - accuracy: 0.8141 - val_loss: 0.9728 - val_accuracy: 0.6107\n",
      "Epoch 6/10\n",
      "5091/5091 [==============================] - 28s 5ms/step - loss: 0.4080 - accuracy: 0.8182 - val_loss: 0.9937 - val_accuracy: 0.6200\n",
      "Epoch 7/10\n",
      "5091/5091 [==============================] - 29s 6ms/step - loss: 0.4028 - accuracy: 0.8202 - val_loss: 0.9847 - val_accuracy: 0.6339\n",
      "Epoch 8/10\n",
      "5091/5091 [==============================] - 29s 6ms/step - loss: 0.3976 - accuracy: 0.8224 - val_loss: 0.9998 - val_accuracy: 0.6422\n",
      "Epoch 9/10\n",
      "5091/5091 [==============================] - 29s 6ms/step - loss: 0.3917 - accuracy: 0.8249 - val_loss: 1.0683 - val_accuracy: 0.6413\n",
      "Epoch 10/10\n",
      "5091/5091 [==============================] - 29s 6ms/step - loss: 0.3873 - accuracy: 0.8273 - val_loss: 1.0507 - val_accuracy: 0.6530\n"
     ]
    }
   ],
   "source": [
    "# Here we define our CNN+LSTM model. First step is to create a sequence and one by one add the models\n",
    "model = Sequential()\n",
    "# a Time Distributed CNN and Maxpool model with the parameters filters=64, kernel_size=1, activation='relu'\n",
    "# This timedistributed model will be passed to LSTM model by flattening\n",
    "model.add(TimeDistributed(Conv1D(filters=64, kernel_size=1, activation='relu'), input_shape=(None, n_steps, n_features)))\n",
    "model.add(TimeDistributed(MaxPooling1D(pool_size=2)))\n",
    "model.add(TimeDistributed(Flatten()))\n",
    "# Rest is the same as the LSTM model\n",
    "model.add(LSTM(64, activation='relu'))\n",
    "model.add(Dense(1, activation='sigmoid'))\n",
    "model.compile(loss='binary_crossentropy', optimizer='adam', metrics=['accuracy'])\n",
    "print(model.summary())\n",
    "history = model.fit(X_train, y_train, validation_split=0.2, epochs=10, batch_size=256, verbose=1)"
   ]
  },
  {
   "cell_type": "code",
   "execution_count": 21,
   "metadata": {
    "colab": {
     "base_uri": "https://localhost:8080/"
    },
    "id": "sI9I1GeokFlU",
    "outputId": "877d3802-fdb2-4d5b-da28-1267188632be"
   },
   "outputs": [
    {
     "name": "stdout",
     "output_type": "stream",
     "text": [
      "Accuracy: 66.73%\n"
     ]
    }
   ],
   "source": [
    "# Final evaluation of the model\n",
    "scores = model.evaluate(X_test, y_test, verbose=0)\n",
    "print(\"Accuracy: %.2f%%\" % (scores[1]*100))"
   ]
  },
  {
   "cell_type": "code",
   "execution_count": 22,
   "metadata": {
    "colab": {
     "base_uri": "https://localhost:8080/",
     "height": 295
    },
    "id": "rddTGru8y8a8",
    "outputId": "d9881ae4-a4ed-4e62-e5bc-d1a5343b1473"
   },
   "outputs": [
    {
     "data": {
      "image/png": "[encoded data removed]",
      "text/plain": [
       "<Figure size 432x288 with 1 Axes>"
      ]
     },
     "metadata": {
      "needs_background": "light"
     },
     "output_type": "display_data"
    }
   ],
   "source": [
    "plt.plot(history.history['loss'],label='Train loss')\n",
    "plt.plot(history.history['val_loss'],label='Validation loss')\n",
    "plt.xlabel('Epochs')\n",
    "plt.ylabel('Loss')\n",
    "plt.title('Loss vs Epochs')\n",
    "plt.legend()\n",
    "plt.show()"
   ]
  },
  {
   "cell_type": "code",
   "execution_count": 23,
   "metadata": {
    "colab": {
     "base_uri": "https://localhost:8080/",
     "height": 295
    },
    "id": "cfR8beR3zCk2",
    "outputId": "4967ab75-d1ab-4cde-a2be-90e817c5fec1"
   },
   "outputs": [
    {
     "data": {
      "image/png": "[encoded data removed]",
      "text/plain": [
       "<Figure size 432x288 with 1 Axes>"
      ]
     },
     "metadata": {
      "needs_background": "light"
     },
     "output_type": "display_data"
    }
   ],
   "source": [
    "plt.plot(history.history['accuracy'],label='Train Accuracy')\n",
    "plt.plot(history.history['val_accuracy'],label='Validation Accuracy')\n",
    "plt.xlabel('Epochs')\n",
    "plt.ylabel('Accuracy')\n",
    "plt.title('Accuracy vs Epochs')\n",
    "plt.legend()\n",
    "plt.show()"
   ]
  },
  {
   "cell_type": "code",
   "execution_count": null,
   "metadata": {
    "id": "N5BHIyz0BFXE"
   },
   "outputs": [],
   "source": []
  }
 ],
 "metadata": {
  "accelerator": "GPU",
  "colab": {
   "collapsed_sections": [],
   "name": "CNN_LSTM_Modified.ipynb",
   "provenance": []
  },
  "kernelspec": {
   "display_name": "Python 3",
   "language": "python",
   "name": "python3"
  },
  "language_info": {
   "codemirror_mode": {
    "name": "ipython",
    "version": 3
   },
   "file_extension": ".py",
   "mimetype": "text/x-python",
   "name": "python",
   "nbconvert_exporter": "python",
   "pygments_lexer": "ipython3",
   "version": "3.8.5"
  }
 },
 "nbformat": 4,
 "nbformat_minor": 4
}
