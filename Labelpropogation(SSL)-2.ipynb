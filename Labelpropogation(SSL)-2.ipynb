{
  "cells": [
    {
      "cell_type": "markdown",
      "metadata": {
        "id": "m7eU0DIEZxvK"
      },
      "source": [
        "# Semisupervised Learning"
      ]
    },
    {
      "cell_type": "markdown",
      "metadata": {
        "id": "kuhywrAdZxvN"
      },
      "source": [
        "## Label Propogation Algorithm"
      ]
    },
    {
      "cell_type": "code",
      "execution_count": null,
      "metadata": {
        "id": "6pB96cioZxvO"
      },
      "outputs": [],
      "source": [
        "import numpy as np\n",
        "import pandas as pd\n",
        "import matplotlib.pyplot as plt\n",
        "from sklearn.model_selection import train_test_split\n",
        "from sklearn.metrics import accuracy_score\n",
        "from sklearn.semi_supervised import LabelPropagation\n",
        "from sklearn.linear_model import LogisticRegression\n",
        "from sklearn.metrics import classification_report\n",
        "from sklearn.metrics import confusion_matrix\n",
        "import warnings\n",
        "warnings.filterwarnings('ignore')"
      ]
    },
    {
      "cell_type": "code",
      "execution_count": null,
      "metadata": {
        "id": "GfQdoe14ZxvQ"
      },
      "outputs": [],
      "source": [
        "df = pd.read_csv('data.csv', low_memory=False)\n",
        "df = df.drop('SessionLabel2', axis=1)\n",
        "df = df.drop(columns=df.columns[:3])\n",
        "df"
      ]
    },
    {
      "cell_type": "code",
      "execution_count": null,
      "metadata": {
        "id": "OWcmrih2ZxvR"
      },
      "outputs": [],
      "source": [
        "df['SessionLabel'].value_counts()"
      ]
    },
    {
      "cell_type": "code",
      "execution_count": null,
      "metadata": {
        "id": "471HDcMZZxvS"
      },
      "outputs": [],
      "source": [
        "y = df['SessionLabel'].to_numpy()\n",
        "X = df[['ACC_mean','BVP_mean','EDA_mean','TEMP_mean']].to_numpy()"
      ]
    },
    {
      "cell_type": "code",
      "execution_count": null,
      "metadata": {
        "id": "3gb4Rt8HZxvS"
      },
      "outputs": [],
      "source": [
        "X_train, X_test, y_train, y_test = train_test_split(X, y, test_size=0.3, random_state=42)"
      ]
    },
    {
      "cell_type": "code",
      "execution_count": null,
      "metadata": {
        "id": "JFQV52BYZxvU"
      },
      "outputs": [],
      "source": [
        "X_labelled, X_unlabelled, y_labelled, y_unlabelled = train_test_split(X_train, y_train, test_size=0.50, random_state=1, stratify=y_train)"
      ]
    },
    {
      "cell_type": "code",
      "execution_count": null,
      "metadata": {
        "id": "WHrAsn9iZxvU"
      },
      "outputs": [],
      "source": [
        "# summarize training set size\n",
        "print('Labelled Train Set:', X_labelled.shape, y_labelled.shape)\n",
        "print('Unlabelled Train Set:', X_unlabelled.shape, y_unlabelled.shape)\n",
        "# summarize test set size\n",
        "print('Test Set:', X_test.shape, y_test.shape)"
      ]
    },
    {
      "cell_type": "code",
      "execution_count": null,
      "metadata": {
        "id": "F6Jozs43ZxvV"
      },
      "outputs": [],
      "source": [
        "X_train_mixed = np.concatenate((X_labelled, X_unlabelled))\n",
        "# create \"nolabel\" array for unlabeled data (which only stores -1\n",
        "# i.e our unlabelled data will not store 0 or 1 but will store a random number (here -1 is used))\n",
        "nolabel = [-1 for _ in range(len(y_unlabelled))]\n",
        "# recombine training dataset labels\n",
        "y_train_mixed = np.concatenate((y_labelled, nolabel))\n",
        "# define model\n",
        "model = LabelPropagation(kernel='knn', n_neighbors=7, n_jobs=-1)"
      ]
    },
    {
      "cell_type": "code",
      "execution_count": null,
      "metadata": {
        "id": "dcpMor_mZxvV"
      },
      "outputs": [],
      "source": [
        "X_train_mixed.shape"
      ]
    },
    {
      "cell_type": "code",
      "execution_count": null,
      "metadata": {
        "id": "5qHawJ0FZxvV"
      },
      "outputs": [],
      "source": [
        "len(y_train_mixed[y_train_mixed==1]),len(y_train_mixed[y_train_mixed==2]),len(y_train_mixed[y_train_mixed==0])"
      ]
    },
    {
      "cell_type": "code",
      "execution_count": null,
      "metadata": {
        "id": "CUj2llRHZxvW"
      },
      "outputs": [],
      "source": [
        "# fit model on training dataset\n",
        "hist = model.fit(X_train_mixed, y_train_mixed)\n",
        "# get labels for entire training dataset data\n",
        "pseudo_labels = model.transduction_"
      ]
    },
    {
      "cell_type": "code",
      "execution_count": null,
      "metadata": {
        "id": "CHYGiXpBZxvW"
      },
      "outputs": [],
      "source": [
        "y_check = np.concatenate((y_labelled, y_unlabelled))"
      ]
    },
    {
      "cell_type": "code",
      "execution_count": null,
      "metadata": {
        "id": "IgnDqlsEZxvX"
      },
      "outputs": [],
      "source": [
        "confusion_matrix(y_check,pseudo_labels)"
      ]
    },
    {
      "cell_type": "code",
      "execution_count": null,
      "metadata": {
        "id": "kitaWu02ZxvX"
      },
      "outputs": [],
      "source": [
        "print(classification_report(y_check,pseudo_labels))"
      ]
    },
    {
      "cell_type": "code",
      "execution_count": null,
      "metadata": {
        "id": "QuiVaQ4QZxvX"
      },
      "outputs": [],
      "source": [
        "from sklearn.ensemble import RandomForestClassifier"
      ]
    },
    {
      "cell_type": "code",
      "execution_count": null,
      "metadata": {
        "id": "CTJOAdR7ZxvY"
      },
      "outputs": [],
      "source": [
        "# define supervised learning model\n",
        "model2 = RandomForestClassifier(max_depth=2, random_state=0)\n",
        "# fit supervised learning model on entire new augmented training dataset (i.e. using pseudo_labels)\n",
        "model2.fit(X_train_mixed, pseudo_labels)\n",
        "# make predictions on hold out test set\n",
        "yhat = model2.predict(X_test)\n",
        "# calculate score for test set\n",
        "score = accuracy_score(y_test, yhat)\n",
        "# summarize score\n",
        "print('Accuracy: %.3f' % (score*100))"
      ]
    }
  ],
  "metadata": {
    "kernelspec": {
      "display_name": "Python 3",
      "language": "python",
      "name": "python3"
    },
    "language_info": {
      "codemirror_mode": {
        "name": "ipython",
        "version": 3
      },
      "file_extension": ".py",
      "mimetype": "text/x-python",
      "name": "python",
      "nbconvert_exporter": "python",
      "pygments_lexer": "ipython3",
      "version": "3.8.5"
    },
    "colab": {
      "provenance": []
    }
  },
  "nbformat": 4,
  "nbformat_minor": 0
}